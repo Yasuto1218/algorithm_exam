{
 "cells": [
  {
   "attachments": {},
   "cell_type": "markdown",
   "metadata": {},
   "source": [
    "## 5.2 全探索\n",
    "- 全探索は強力な方法だが、解の個数を見積もり計算時間が制約の範囲が制約の範囲に収まっていることを確認する必要がある。"
   ]
  },
  {
   "attachments": {},
   "cell_type": "markdown",
   "metadata": {},
   "source": [
    "### 1問目\n",
    "・全ての桁の数字が同じであるようなせいの整数をゾロ目数と呼ぶことにする。小さい方からN番目のゾロ目数を求めてください。\n",
    "\n",
    "\n"
   ]
  },
  {
   "cell_type": "code",
   "execution_count": 10,
   "metadata": {},
   "outputs": [
    {
     "data": {
      "text/plain": [
       "'555555'"
      ]
     },
     "execution_count": 10,
     "metadata": {},
     "output_type": "execute_result"
    }
   ],
   "source": [
    "#自作コード\n",
    "N = 50\n",
    "i = 1\n",
    "zoro = []\n",
    "while len(zoro) < 50:\n",
    "    for i in range(1, 10):\n",
    "        for j in range(1, 10):\n",
    "            zoro.append(str(j) * i)\n",
    "zoro[N-1]"
   ]
  },
  {
   "cell_type": "code",
   "execution_count": 11,
   "metadata": {},
   "outputs": [
    {
     "name": "stdout",
     "output_type": "stream",
     "text": [
      "44444\n"
     ]
    }
   ],
   "source": [
    "import math\n",
    "\n",
    "N = int(input())\n",
    "#N番目のゾロ目数の桁数(切り上げ)\n",
    "x = math.ceil(N/9)\n",
    "\n",
    "#N番目のゾロ目数の数字\n",
    "y = N%9\n",
    "\n",
    "if y == 0:\n",
    "    y = 9\n",
    "\n",
    "ans = \"\"\n",
    "\n",
    "for _ in range(0, x):\n",
    "    ans += str(y)\n",
    "\n",
    "print(ans)"
   ]
  },
  {
   "attachments": {},
   "cell_type": "markdown",
   "metadata": {},
   "source": [
    "### 2問目 "
   ]
  },
  {
   "cell_type": "code",
   "execution_count": 16,
   "metadata": {},
   "outputs": [
    {
     "name": "stdout",
     "output_type": "stream",
     "text": [
      "NG\n"
     ]
    }
   ],
   "source": [
    "#AからBの間にKの倍数があるか？\n",
    "A = 499\n",
    "B = 500\n",
    "K = 7\n",
    "\n",
    "ok = False\n",
    "#全探索1\n",
    "for i in range(A, B+1):\n",
    "    if i % 7 == 0:\n",
    "        ok = True\n",
    "\n",
    "if ok:\n",
    "    print(\"OK\")\n",
    "else:\n",
    "    print(\"NG\")\n"
   ]
  },
  {
   "cell_type": "markdown",
   "metadata": {},
   "source": [
    "## 3問目"
   ]
  },
  {
   "cell_type": "code",
   "execution_count": 67,
   "metadata": {},
   "outputs": [
    {
     "name": "stdout",
     "output_type": "stream",
     "text": [
      "7\n"
     ]
    }
   ],
   "source": [
    "#回答\n",
    "\n",
    "def is_match(T, S):\n",
    "    #文字列Sのi文字目から始まる部分が文字列Tとマッチするかどうか調べる\n",
    "    for i in range(0, len(S) - len(T) + 1):\n",
    "\n",
    "        #文字列Sのi文字目から始まる部分が\n",
    "        #文字列Tとマッチしているかどうかを保持する変数\n",
    "        ok = True\n",
    "\n",
    "        #文字列Tのj文字目と、文字列Sのi+j文字目を見比べる\n",
    "\n",
    "        for j in range(0, len(T)):\n",
    "            #文字列Tのj文字目が文字列Sのi+j文字目と異なっていて、\n",
    "            #かつ、文字列Tのj文字が\".\"でもない場合、\n",
    "            #文字列Sのi文字目から始まる部分は文字列Tとはマッチしない\n",
    "            if S[i + j] != T[j] and T[j] != \".\":\n",
    "                ok = False\n",
    "        \n",
    "        #文字列Sのi文字目から始まる部分が文字列Tマッチしている場合\n",
    "        #Trueで返す\n",
    "        if ok:\n",
    "            return True\n",
    "        \n",
    "    # 文字列Sの全ての部分について文字列Tとマッチしなかった場合、Falseを返す\n",
    "    return False\n",
    "\n",
    "import string\n",
    "C = list(string.ascii_lowercase) + [\".\"]\n",
    "#文字列Sとマッチする文字列を保持する配列\n",
    "M =[]\n",
    "\n",
    "S = input()\n",
    "#長さ1の文字列を全て調べ、SとマッチするものをMに入れる\n",
    "for T in C:\n",
    "    if is_match(T, S):\n",
    "        M.append(T)\n",
    "\n",
    "for c1 in C:\n",
    "    for c2 in C:\n",
    "        T = c1 + c2\n",
    "        if is_match(T, S):\n",
    "            M.append(T)\n",
    "\n",
    "#長さ3の文字列を全て調べ、SとマッチするものをMに入れる\n",
    "for c1 in C:\n",
    "    for c2 in C:\n",
    "        for c3 in C:\n",
    "            T = c1 + c2 + c3\n",
    "            if is_match(T, S):\n",
    "                M.append(T)\n",
    "\n",
    "print(len(M))"
   ]
  },
  {
   "cell_type": "code",
   "execution_count": null,
   "metadata": {},
   "outputs": [],
   "source": []
  }
 ],
 "metadata": {
  "kernelspec": {
   "display_name": "Python 3",
   "language": "python",
   "name": "python3"
  },
  "language_info": {
   "codemirror_mode": {
    "name": "ipython",
    "version": 3
   },
   "file_extension": ".py",
   "mimetype": "text/x-python",
   "name": "python",
   "nbconvert_exporter": "python",
   "pygments_lexer": "ipython3",
   "version": "3.10.4 (main, Oct 25 2022, 15:01:56) [Clang 14.0.0 (clang-1400.0.29.102)]"
  },
  "orig_nbformat": 4,
  "vscode": {
   "interpreter": {
    "hash": "1352091d885be459b0634ffc7d0f202037fa8494bc26d2a5bb2a52ecd34478c1"
   }
  }
 },
 "nbformat": 4,
 "nbformat_minor": 2
}
