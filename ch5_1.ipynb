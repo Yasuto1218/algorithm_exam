{
 "cells": [
  {
   "attachments": {},
   "cell_type": "markdown",
   "metadata": {},
   "source": [
    "## 5.1 ２次元配列"
   ]
  },
  {
   "cell_type": "markdown",
   "metadata": {},
   "source": [
    "### 問題を解いてみよう②"
   ]
  },
  {
   "cell_type": "code",
   "execution_count": 13,
   "metadata": {},
   "outputs": [
    {
     "name": "stdout",
     "output_type": "stream",
     "text": [
      "Yes\n"
     ]
    }
   ],
   "source": [
    "#----解答(自作)----\n",
    "#配列の作成\n",
    "C_1 = []\n",
    "C_2 = []\n",
    "C_3 = []\n",
    "c_lists = [C_1, C_2, C_3]\n",
    "for l, _ in zip(c_lists, range(3)):\n",
    "    l = list(map(int, input().split()))\n",
    "\n",
    "# テスト配列\n",
    "# C_1 = [1, 0, 1]\n",
    "# C_2 = [2, 1, 2]\n",
    "# C_3 = [1, 0, 1]\n",
    "\n",
    "#配列の差分をとる\n",
    "c1_c2 = [c1 - c2 for c1, c2 in zip(C_1, C_2)]\n",
    "c2_c3 = [c2 - c3 for c2, c3 in zip(C_2, C_3)]\n",
    "c1_c3 = [c1 - c3 for c1, c3 in zip(C_1, C_3)]\n",
    "is_true = []\n",
    "#配列の最初の要素×3と配列が一致していたらtrue\n",
    "for l in (c1_c2, c2_c3, c1_c3):\n",
    "    if [l[0]] * 3 == l:\n",
    "        is_true.append(True)\n",
    "if all(is_true):\n",
    "    print(\"Yes\")\n",
    "else:\n",
    "    print(\"No\")\n"
   ]
  },
  {
   "cell_type": "code",
   "execution_count": 6,
   "metadata": {},
   "outputs": [
    {
     "name": "stdout",
     "output_type": "stream",
     "text": [
      "Yes\n"
     ]
    }
   ],
   "source": [
    "##----(解答)-----\n",
    "# C = []\n",
    "\n",
    "# #配列の作成\n",
    "# for _ in range(0, 3):\n",
    "#     #Cの1行分を表す１次元配列\n",
    "#     row = list(map(int, input().split()))\n",
    "#     C.append(row)\n",
    "\n",
    "#テスト用２次元配列\n",
    "C = [[1, 0, 1],\n",
    "     [2, 1, 2],\n",
    "     [1, 0, 1]]\n",
    "\n",
    "ok = True\n",
    "\n",
    "#Cの0列目と1列目の差を調べ、全て同じ値でなければ矛盾\n",
    "if C[0][0] - C[0][1] != C[1][0] - C[1][1] or C[1][0] - C[1][1] != C[2][0] - C[2][1]:\n",
    "    ok = False\n",
    "\n",
    "#Cの1列目と2列目の差を調べ、全て同じ値でなければ矛盾\n",
    "if C[0][1] - C[0][2] != C[1][1] - C[1][2] or C[1][1] - C[1][2] != C[2][1] - C[2][2]:\n",
    "    ok = False\n",
    "\n",
    "#Cの0行目と1行目の差を調べ、全て同じ値でなければ矛盾\n",
    "if C[0][0] - C[1][0] != C[0][1] - C[1][1] or C[0][1] - C[1][1] != C[0][2] - C[1][2]:\n",
    "    ok = False\n",
    "\n",
    "#Cの1行目と2行目の差を調べ、全て同じ値でなければ矛盾\n",
    "if C[1][0] - C[2][0] != C[1][1] - C[2][1] or C[1][1] - C[2][1] != C[1][2] - C[2][2]:\n",
    "    ok = False\n",
    "\n",
    "\n",
    "if ok:\n",
    "    print(\"Yes\")\n",
    "else:\n",
    "    print(\"No\")"
   ]
  },
  {
   "cell_type": "markdown",
   "metadata": {},
   "source": [
    "\n",
    "### 問題を解いてみよう3"
   ]
  },
  {
   "cell_type": "code",
   "execution_count": null,
   "metadata": {},
   "outputs": [],
   "source": []
  },
  {
   "cell_type": "code",
   "execution_count": null,
   "metadata": {},
   "outputs": [],
   "source": []
  }
 ],
 "metadata": {
  "kernelspec": {
   "display_name": "Python 3",
   "language": "python",
   "name": "python3"
  },
  "language_info": {
   "codemirror_mode": {
    "name": "ipython",
    "version": 3
   },
   "file_extension": ".py",
   "mimetype": "text/x-python",
   "name": "python",
   "nbconvert_exporter": "python",
   "pygments_lexer": "ipython3",
   "version": "3.10.4"
  },
  "orig_nbformat": 4,
  "vscode": {
   "interpreter": {
    "hash": "1352091d885be459b0634ffc7d0f202037fa8494bc26d2a5bb2a52ecd34478c1"
   }
  }
 },
 "nbformat": 4,
 "nbformat_minor": 2
}
