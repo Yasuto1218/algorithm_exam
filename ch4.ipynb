{
 "cells": [
  {
   "cell_type": "code",
   "execution_count": 5,
   "metadata": {},
   "outputs": [
    {
     "name": "stdout",
     "output_type": "stream",
     "text": [
      "[1, 2, 3, 4, 5]\n",
      "1 2 3 4 5\n"
     ]
    }
   ],
   "source": [
    "a = list(map(int, input().split()))\n",
    "print(a)\n",
    "print(*a)"
   ]
  },
  {
   "cell_type": "code",
   "execution_count": null,
   "metadata": {},
   "outputs": [],
   "source": [
    "# 4.5文字列の使い方\n",
    "a = \"ab\"\n",
    "print(a * 3)\n",
    "a = a.upper()\n",
    "print(\"upper\", a)\n",
    "a = a.lower()\n",
    "print(\"lower\", a)\n",
    "b = 100\n",
    "print(\"str(b)\", str(b))\n",
    "c = \"000-123-23445\"\n",
    "print(\"c.split()\", c.split(\"-\"))"
   ]
  }
 ],
 "metadata": {
  "kernelspec": {
   "display_name": "Python 3",
   "language": "python",
   "name": "python3"
  },
  "language_info": {
   "codemirror_mode": {
    "name": "ipython",
    "version": 3
   },
   "file_extension": ".py",
   "mimetype": "text/x-python",
   "name": "python",
   "nbconvert_exporter": "python",
   "pygments_lexer": "ipython3",
   "version": "3.10.3"
  },
  "orig_nbformat": 4,
  "vscode": {
   "interpreter": {
    "hash": "a113ed9809435bfdf3559feef5248bd29c9f720ba367106f567ad1fa9183c477"
   }
  }
 },
 "nbformat": 4,
 "nbformat_minor": 2
}
