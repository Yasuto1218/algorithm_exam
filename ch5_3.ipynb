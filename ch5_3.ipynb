{
 "cells": [
  {
   "cell_type": "markdown",
   "metadata": {},
   "source": [
    "### 5.3グラフの基礎"
   ]
  },
  {
   "attachments": {},
   "cell_type": "markdown",
   "metadata": {},
   "source": [
    "#### 制約\n",
    "- 値は全て整数\n",
    "- 1 <= N, Q <=200     Nは頂点の数、Qは無向辺の数\n",
    "- 1 <= u_i, v_i <= N  u_i,v_iは辺iが繋がっている頂点\n",
    "- 1 <= c_i <= 10**5   色の数\n",
    "- S_iは下記のいずれかの形式の文字列\n",
    "    - 1x\n",
    "    - 2xy\n",
    "- 与えられるグラフに多重辺や自己ループは存在しない"
   ]
  },
  {
   "attachments": {},
   "cell_type": "markdown",
   "metadata": {},
   "source": [
    "#### 入力\n",
    "N M Q : 頂点N個、辺M個、クエリQ個\\\n",
    "u_1 v1 : 頂点u_1はv_1と繋がっている\\\n",
    "・\\\n",
    "・\\\n",
    "・\\\n",
    "u_M vM\\\n",
    "c_1, c_2...c_N\\\n",
    "S_1\\\n",
    ".\\\n",
    ".\\\n",
    ".\\\n",
    "S_Q"
   ]
  },
  {
   "cell_type": "markdown",
   "metadata": {},
   "source": [
    "#### 隣接行列を使った解法"
   ]
  },
  {
   "cell_type": "code",
   "execution_count": 10,
   "metadata": {},
   "outputs": [
    {
     "name": "stdout",
     "output_type": "stream",
     "text": [
      "15\n",
      "5\n",
      "15\n"
     ]
    }
   ],
   "source": [
    "N, M, Q = map(int, input().split())\n",
    "\n",
    "#FlaseのN*Nの2次元行列を作る\n",
    "graph = []\n",
    "for i in range(0, N):\n",
    "    \n",
    "    row = []\n",
    "    #長さNのFalseの１次元配列を作成\n",
    "    for j in range(0, N):\n",
    "        row.append(False)\n",
    "    #長さNのFalseの1次元配列をgraphに追加する\n",
    "    graph.append(row)\n",
    "\n",
    "#M本の辺を受け取る\n",
    "for i in range(0, M):\n",
    "    u, v = map(int, input().split()) \n",
    "\n",
    "    #頂点番号は全て-1する\n",
    "    u -= 1\n",
    "    v -= 1\n",
    "\n",
    "    #uとvの間には辺gあるためTrueにする\n",
    "    graph[u][v] = True\n",
    "    graph[v][u] = True\n",
    "\n",
    "#クエリを受けっとて回答する部分のコード\n",
    "C = list(map(int, input().split()))\n",
    "\n",
    "#Q個のクエリを受け取る、\n",
    "for i in range(0, Q):\n",
    "    query = list(map(int, input().split()))\n",
    "\n",
    "    #スプリンクラーを起動するクエリの場合\n",
    "    if query[0] == 1:\n",
    "        x = query[1]\n",
    "\n",
    "        #頂点番号は全て-1する\n",
    "        x = -1\n",
    "\n",
    "        #頂点xの色を出力する\n",
    "        print(C[x])\n",
    "\n",
    "        #全ての頂点を順番に見る\n",
    "        for i in range(0, N):\n",
    "\n",
    "            # 頂点iが頂点Xに隣接しているとき、\n",
    "            # すなわち頂点Xと頂点iの間に辺があるとき\n",
    "            if graph[x][i]:\n",
    "                # 頂点iの色をC[x]に書き換える\n",
    "                C[i] = C[x]\n",
    "    \n",
    "    #スプリンクラーを起動しないクエリの場合\n",
    "    if query[0] == 2:\n",
    "        x = query[1]\n",
    "        y = query[2]\n",
    "\n",
    "        #頂点番号は全て-1する\n",
    "        x -= 1\n",
    "\n",
    "        #頂点xの色を出力\n",
    "        print(C[x])\n",
    "\n",
    "        #頂点xの色をyに書き換える\n",
    "        C[x] = y\n"
   ]
  },
  {
   "cell_type": "markdown",
   "metadata": {},
   "source": [
    "### 隣接リストを使った解法\n"
   ]
  },
  {
   "cell_type": "code",
   "execution_count": 1,
   "metadata": {},
   "outputs": [
    {
     "name": "stdout",
     "output_type": "stream",
     "text": [
      "15\n",
      "15\n",
      "20\n"
     ]
    }
   ],
   "source": [
    "N, M, Q = map(int, input().split())\n",
    "\n",
    "graph = []\n",
    "\n",
    "# N ✖️ 0の2次元配列を作る\n",
    "for i in range(0, N):\n",
    "    # 長さ 0 の1次元配列を作る\n",
    "    row = []\n",
    "    graph.append(row)\n",
    "\n",
    "\n",
    "# # M本の辺を受け取る\n",
    "for i in range(0, M):\n",
    "    u, v = map(int, input().split())\n",
    "\n",
    "    # 頂点番号は全て−１する\n",
    "    u -= 1\n",
    "    v -= 1\n",
    "\n",
    "    # 頂点 u からvへ辺がある\n",
    "    graph[u].append(v)\n",
    "\n",
    "    # 頂点 v から u へ辺がある\n",
    "    graph[v].append(u)\n",
    "\n",
    "# #頂点の色のリストを受け取る\n",
    "C = list(map(int, input().split()))\n",
    "\n",
    "# #Q個のクエリを受け取る\n",
    "for i in range(0, Q):\n",
    "    query = list(map(int, input().split()))\n",
    "\n",
    "    #スプリンクラーを起動するクエリの場合\n",
    "    if query[0] == 1:\n",
    "        x = query[1]\n",
    "\n",
    "        #頂点番号は全て-1する\n",
    "        x -= 1\n",
    "\n",
    "        #頂点xの色を出力する\n",
    "        print(C[x])\n",
    "\n",
    "        #頂点 x に隣接する頂点の色を頂点xと同じ色にする\n",
    "        for i in graph[x]:\n",
    "            C[i] = C[x]\n",
    "    \n",
    "    #スプリンクラーを起動しないクエリの場合\n",
    "    if query[0] == 2:\n",
    "        x = query[1]\n",
    "        y = query[2]\n",
    "\n",
    "        #頂点番号は全て-1する\n",
    "        x -= 1\n",
    "\n",
    "        #頂点xの色を出力する\n",
    "        print(C[x])\n",
    "\n",
    "        #頂点xの色をyに置き換える\n",
    "        C[x] = y"
   ]
  },
  {
   "cell_type": "code",
   "execution_count": null,
   "metadata": {},
   "outputs": [],
   "source": []
  }
 ],
 "metadata": {
  "kernelspec": {
   "display_name": "Python 3",
   "language": "python",
   "name": "python3"
  },
  "language_info": {
   "codemirror_mode": {
    "name": "ipython",
    "version": 3
   },
   "file_extension": ".py",
   "mimetype": "text/x-python",
   "name": "python",
   "nbconvert_exporter": "python",
   "pygments_lexer": "ipython3",
   "version": "3.10.4"
  },
  "orig_nbformat": 4,
  "vscode": {
   "interpreter": {
    "hash": "1352091d885be459b0634ffc7d0f202037fa8494bc26d2a5bb2a52ecd34478c1"
   }
  }
 },
 "nbformat": 4,
 "nbformat_minor": 2
}
