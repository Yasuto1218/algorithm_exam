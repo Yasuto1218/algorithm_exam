{
 "cells": [
  {
   "cell_type": "markdown",
   "metadata": {},
   "source": [
    "### 5.3グラフの基礎"
   ]
  },
  {
   "attachments": {},
   "cell_type": "markdown",
   "metadata": {},
   "source": [
    "#### 制約\n",
    "- 値は全て整数\n",
    "- 1 <= N, Q <=200     Nは頂点の数、Qは無向辺の数\n",
    "- 1 <= u_i, v_i <= N  u_i,v_iは辺iが繋がっている頂点\n",
    "- 1 <= c_i <= 10**5   色の数\n",
    "- S_iは下記のいずれかの形式の文字列\n",
    "    - 1x\n",
    "    - 2xy\n",
    "- 与えられるグラフに多重辺や自己ループは存在しない"
   ]
  },
  {
   "attachments": {},
   "cell_type": "markdown",
   "metadata": {},
   "source": [
    "#### 入力\n",
    "N M Q : 頂点N個、辺M個、クエリQ個\\\n",
    "u_1 v1 : 頂点u_1はv_1と繋がっている\\\n",
    "・\\\n",
    "・\\\n",
    "・\\\n",
    "u_M vM\\\n",
    "c_1, c_2...c_N\\\n",
    "S_1\\\n",
    ".\\\n",
    ".\\\n",
    ".\\\n",
    "S_Q"
   ]
  },
  {
   "cell_type": "markdown",
   "metadata": {},
   "source": [
    "#### 隣接行列を使った解法"
   ]
  },
  {
   "cell_type": "code",
   "execution_count": null,
   "metadata": {},
   "outputs": [],
   "source": [
    "N, M, Q = map(int, input().split())\n",
    "\n",
    "#FlaseのN*Nの2次元行列を作る\n",
    "graph = []\n",
    "for i in range(0, N):\n",
    "    row = []\n",
    "    #長さNのFalseの１次元配列を作成\n",
    "    for j in range(0, N):\n",
    "        row.append(False)\n",
    "    #長さNのFalseの1次元配列をgraphに追加する\n",
    "    graph.append(row)\n",
    "\n",
    "#M本の辺を受け取る\n",
    "for i in range(0, M):\n",
    "    u, v = map(int, input().split()) \n",
    "\n",
    "    #頂点番号は全て-1する\n",
    "    u -= 1\n",
    "    v -= 1\n",
    "\n",
    "    #uとvの間には辺gあるためTrueにする\n",
    "    graph[u][v] = True\n",
    "    graph[v][u] = True"
   ]
  },
  {
   "cell_type": "code",
   "execution_count": null,
   "metadata": {},
   "outputs": [],
   "source": []
  }
 ],
 "metadata": {
  "kernelspec": {
   "display_name": "Python 3",
   "language": "python",
   "name": "python3"
  },
  "language_info": {
   "codemirror_mode": {
    "name": "ipython",
    "version": 3
   },
   "file_extension": ".py",
   "mimetype": "text/x-python",
   "name": "python",
   "nbconvert_exporter": "python",
   "pygments_lexer": "ipython3",
   "version": "3.10.4"
  },
  "orig_nbformat": 4,
  "vscode": {
   "interpreter": {
    "hash": "1352091d885be459b0634ffc7d0f202037fa8494bc26d2a5bb2a52ecd34478c1"
   }
  }
 },
 "nbformat": 4,
 "nbformat_minor": 2
}
